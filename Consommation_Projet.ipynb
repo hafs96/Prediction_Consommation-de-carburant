{
 "cells": [
  {
   "cell_type": "markdown",
   "metadata": {},
   "source": [
    "-----\n",
    "<center>\n",
    "<h1 style=\"font-size: 50px; font-family: serif;\">Consommation de carburant</h1>\n",
    "<h3>Rédigé par :</h3>\n",
    "<h4>ZIAN Hafsa- Hayhay Yasmine -Alahyani Aya - Kaoutar ?</h4>\n",
    "</center>\n",
    "\n",
    "---"
   ]
  },
  {
   "cell_type": "markdown",
   "metadata": {},
   "source": [
    "<center>\n",
    "<img src=\"./cons.jpeg\" width=\"500\" height='200'>\n",
    "</center>"
   ]
  },
  {
   "cell_type": "markdown",
   "metadata": {},
   "source": [
    "## 1-Problème :\n",
    "\n",
    "Dans ce projet, l'objectif est de développer un modèle permettant de prédire si une voiture a une consommation de carburant élevée ou faible en fonction de ses caractéristiques techniques.\n"
   ]
  },
  {
   "cell_type": "markdown",
   "metadata": {},
   "source": [
    "## 2-Métadonnées : \n",
    "\n",
    "Le jeu de données utilisé, appelé Auto, contient plusieurs variables descriptives liées aux performances et aux spécifications des véhicules, notamment :\n",
    "\n",
    "- **mpg** : `Efficacité énergétique mesurée en miles par gallon (mpg)` \n",
    "- **cylindres**: `Nombre de cylindres du moteur.`\n",
    "- **déplacement** : `Volume du moteur (en pouces cubes).`\n",
    "- **puissance** : `Puissance du moteur (en chevaux).`\n",
    "- **poids** : `Poids du véhicule (en livres).`\n",
    "- **accélération** : `Temps requis pour passer de 0 à 60 mph (en secondes).`\n",
    "- **année** : `Année de fabrication.`\n",
    "- **origine** : `Région d'origine du véhicule.`\n",
    "- **nom** : `Nom du modèle de voiture.`\n"
   ]
  }
 ],
 "metadata": {
  "language_info": {
   "name": "python"
  }
 },
 "nbformat": 4,
 "nbformat_minor": 2
}
